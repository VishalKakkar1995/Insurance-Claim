{
 "cells": [
  {
   "cell_type": "code",
   "execution_count": 1,
   "metadata": {},
   "outputs": [],
   "source": [
    "import pandas as pd\n",
    "import numpy as np\n",
    "from datetime import datetime as dt\n",
    "from matplotlib import pyplot as plt\n",
    "import datetime\n",
    "import seaborn as sns\n",
    "import math\n",
    "import scipy.stats as stats"
   ]
  },
  {
   "cell_type": "code",
   "execution_count": 2,
   "metadata": {},
   "outputs": [],
   "source": [
    "Claims=pd.read_csv(\"C:/Users/Vishal/Desktop/Python/5. Pandas Case Study 3 - Insurance Claims Case Study/claims.csv\")\n",
    "\n",
    "Customer=pd.read_csv(\"C:/Users/Vishal/Desktop/Python/5. Pandas Case Study 3 - Insurance Claims Case Study/cust_demographics.csv\")"
   ]
  },
  {
   "cell_type": "code",
   "execution_count": 3,
   "metadata": {},
   "outputs": [
    {
     "data": {
      "text/html": [
       "<div>\n",
       "<style scoped>\n",
       "    .dataframe tbody tr th:only-of-type {\n",
       "        vertical-align: middle;\n",
       "    }\n",
       "\n",
       "    .dataframe tbody tr th {\n",
       "        vertical-align: top;\n",
       "    }\n",
       "\n",
       "    .dataframe thead th {\n",
       "        text-align: right;\n",
       "    }\n",
       "</style>\n",
       "<table border=\"1\" class=\"dataframe\">\n",
       "  <thead>\n",
       "    <tr style=\"text-align: right;\">\n",
       "      <th></th>\n",
       "      <th>CUST_ID</th>\n",
       "      <th>gender</th>\n",
       "      <th>DateOfBirth</th>\n",
       "      <th>State</th>\n",
       "      <th>Contact</th>\n",
       "      <th>Segment</th>\n",
       "    </tr>\n",
       "  </thead>\n",
       "  <tbody>\n",
       "    <tr>\n",
       "      <th>0</th>\n",
       "      <td>21868593</td>\n",
       "      <td>Female</td>\n",
       "      <td>12-Jan-79</td>\n",
       "      <td>VT</td>\n",
       "      <td>789-916-8172</td>\n",
       "      <td>Platinum</td>\n",
       "    </tr>\n",
       "    <tr>\n",
       "      <th>1</th>\n",
       "      <td>75740424</td>\n",
       "      <td>Female</td>\n",
       "      <td>13-Jan-70</td>\n",
       "      <td>ME</td>\n",
       "      <td>265-543-1264</td>\n",
       "      <td>Silver</td>\n",
       "    </tr>\n",
       "  </tbody>\n",
       "</table>\n",
       "</div>"
      ],
      "text/plain": [
       "    CUST_ID  gender DateOfBirth State       Contact   Segment\n",
       "0  21868593  Female   12-Jan-79    VT  789-916-8172  Platinum\n",
       "1  75740424  Female   13-Jan-70    ME  265-543-1264    Silver"
      ]
     },
     "execution_count": 3,
     "metadata": {},
     "output_type": "execute_result"
    }
   ],
   "source": [
    "Customer.head(2)"
   ]
  },
  {
   "cell_type": "code",
   "execution_count": 4,
   "metadata": {},
   "outputs": [
    {
     "data": {
      "text/html": [
       "<div>\n",
       "<style scoped>\n",
       "    .dataframe tbody tr th:only-of-type {\n",
       "        vertical-align: middle;\n",
       "    }\n",
       "\n",
       "    .dataframe tbody tr th {\n",
       "        vertical-align: top;\n",
       "    }\n",
       "\n",
       "    .dataframe thead th {\n",
       "        text-align: right;\n",
       "    }\n",
       "</style>\n",
       "<table border=\"1\" class=\"dataframe\">\n",
       "  <thead>\n",
       "    <tr style=\"text-align: right;\">\n",
       "      <th></th>\n",
       "      <th>claim_id</th>\n",
       "      <th>customer_id</th>\n",
       "      <th>incident_cause</th>\n",
       "      <th>claim_date</th>\n",
       "      <th>claim_area</th>\n",
       "      <th>police_report</th>\n",
       "      <th>claim_type</th>\n",
       "      <th>claim_amount</th>\n",
       "      <th>total_policy_claims</th>\n",
       "      <th>fraudulent</th>\n",
       "    </tr>\n",
       "  </thead>\n",
       "  <tbody>\n",
       "    <tr>\n",
       "      <th>0</th>\n",
       "      <td>54004764</td>\n",
       "      <td>21868593</td>\n",
       "      <td>Driver error</td>\n",
       "      <td>11/27/2017</td>\n",
       "      <td>Auto</td>\n",
       "      <td>No</td>\n",
       "      <td>Material only</td>\n",
       "      <td>$2980</td>\n",
       "      <td>1.0</td>\n",
       "      <td>No</td>\n",
       "    </tr>\n",
       "    <tr>\n",
       "      <th>1</th>\n",
       "      <td>33985796</td>\n",
       "      <td>75740424</td>\n",
       "      <td>Crime</td>\n",
       "      <td>10/03/2018</td>\n",
       "      <td>Home</td>\n",
       "      <td>Unknown</td>\n",
       "      <td>Material only</td>\n",
       "      <td>$2980</td>\n",
       "      <td>3.0</td>\n",
       "      <td>No</td>\n",
       "    </tr>\n",
       "  </tbody>\n",
       "</table>\n",
       "</div>"
      ],
      "text/plain": [
       "   claim_id  customer_id incident_cause  claim_date claim_area police_report  \\\n",
       "0  54004764     21868593   Driver error  11/27/2017       Auto            No   \n",
       "1  33985796     75740424          Crime  10/03/2018       Home       Unknown   \n",
       "\n",
       "      claim_type claim_amount  total_policy_claims fraudulent  \n",
       "0  Material only        $2980                  1.0         No  \n",
       "1  Material only        $2980                  3.0         No  "
      ]
     },
     "execution_count": 4,
     "metadata": {},
     "output_type": "execute_result"
    }
   ],
   "source": [
    "Claims.head(2)"
   ]
  },
  {
   "cell_type": "code",
   "execution_count": 5,
   "metadata": {},
   "outputs": [],
   "source": [
    "Customer_Claims=pd.merge(Claims,Customer,how='left',left_on='customer_id',right_on='CUST_ID')\n",
    "\n",
    "Customer_Claims.drop(columns='CUST_ID',inplace=True)"
   ]
  },
  {
   "cell_type": "code",
   "execution_count": 6,
   "metadata": {},
   "outputs": [
    {
     "name": "stdout",
     "output_type": "stream",
     "text": [
      "1. The Combined data sets are \n",
      "\n"
     ]
    },
    {
     "data": {
      "text/html": [
       "<div>\n",
       "<style scoped>\n",
       "    .dataframe tbody tr th:only-of-type {\n",
       "        vertical-align: middle;\n",
       "    }\n",
       "\n",
       "    .dataframe tbody tr th {\n",
       "        vertical-align: top;\n",
       "    }\n",
       "\n",
       "    .dataframe thead th {\n",
       "        text-align: right;\n",
       "    }\n",
       "</style>\n",
       "<table border=\"1\" class=\"dataframe\">\n",
       "  <thead>\n",
       "    <tr style=\"text-align: right;\">\n",
       "      <th></th>\n",
       "      <th>claim_id</th>\n",
       "      <th>customer_id</th>\n",
       "      <th>incident_cause</th>\n",
       "      <th>claim_date</th>\n",
       "      <th>claim_area</th>\n",
       "      <th>police_report</th>\n",
       "      <th>claim_type</th>\n",
       "      <th>claim_amount</th>\n",
       "      <th>total_policy_claims</th>\n",
       "      <th>fraudulent</th>\n",
       "      <th>gender</th>\n",
       "      <th>DateOfBirth</th>\n",
       "      <th>State</th>\n",
       "      <th>Contact</th>\n",
       "      <th>Segment</th>\n",
       "    </tr>\n",
       "  </thead>\n",
       "  <tbody>\n",
       "    <tr>\n",
       "      <th>0</th>\n",
       "      <td>54004764</td>\n",
       "      <td>21868593</td>\n",
       "      <td>Driver error</td>\n",
       "      <td>11/27/2017</td>\n",
       "      <td>Auto</td>\n",
       "      <td>No</td>\n",
       "      <td>Material only</td>\n",
       "      <td>$2980</td>\n",
       "      <td>1.0</td>\n",
       "      <td>No</td>\n",
       "      <td>Female</td>\n",
       "      <td>12-Jan-79</td>\n",
       "      <td>VT</td>\n",
       "      <td>789-916-8172</td>\n",
       "      <td>Platinum</td>\n",
       "    </tr>\n",
       "    <tr>\n",
       "      <th>1</th>\n",
       "      <td>33985796</td>\n",
       "      <td>75740424</td>\n",
       "      <td>Crime</td>\n",
       "      <td>10/03/2018</td>\n",
       "      <td>Home</td>\n",
       "      <td>Unknown</td>\n",
       "      <td>Material only</td>\n",
       "      <td>$2980</td>\n",
       "      <td>3.0</td>\n",
       "      <td>No</td>\n",
       "      <td>Female</td>\n",
       "      <td>13-Jan-70</td>\n",
       "      <td>ME</td>\n",
       "      <td>265-543-1264</td>\n",
       "      <td>Silver</td>\n",
       "    </tr>\n",
       "    <tr>\n",
       "      <th>2</th>\n",
       "      <td>53522022</td>\n",
       "      <td>30308357</td>\n",
       "      <td>Other driver error</td>\n",
       "      <td>02/02/2018</td>\n",
       "      <td>Auto</td>\n",
       "      <td>No</td>\n",
       "      <td>Material only</td>\n",
       "      <td>$3369.5</td>\n",
       "      <td>1.0</td>\n",
       "      <td>Yes</td>\n",
       "      <td>Female</td>\n",
       "      <td>11-Mar-84</td>\n",
       "      <td>TN</td>\n",
       "      <td>798-631-4758</td>\n",
       "      <td>Silver</td>\n",
       "    </tr>\n",
       "    <tr>\n",
       "      <th>3</th>\n",
       "      <td>13015401</td>\n",
       "      <td>47830476</td>\n",
       "      <td>Natural causes</td>\n",
       "      <td>06/17/2018</td>\n",
       "      <td>Auto</td>\n",
       "      <td>No</td>\n",
       "      <td>Material only</td>\n",
       "      <td>$1680</td>\n",
       "      <td>1.0</td>\n",
       "      <td>No</td>\n",
       "      <td>Female</td>\n",
       "      <td>01-May-86</td>\n",
       "      <td>MA</td>\n",
       "      <td>413-187-7945</td>\n",
       "      <td>Silver</td>\n",
       "    </tr>\n",
       "    <tr>\n",
       "      <th>4</th>\n",
       "      <td>22890252</td>\n",
       "      <td>19269962</td>\n",
       "      <td>Crime</td>\n",
       "      <td>01/13/2018</td>\n",
       "      <td>Auto</td>\n",
       "      <td>No</td>\n",
       "      <td>Material only</td>\n",
       "      <td>$2680</td>\n",
       "      <td>1.0</td>\n",
       "      <td>No</td>\n",
       "      <td>Male</td>\n",
       "      <td>13-May-77</td>\n",
       "      <td>NV</td>\n",
       "      <td>956-871-8691</td>\n",
       "      <td>Gold</td>\n",
       "    </tr>\n",
       "  </tbody>\n",
       "</table>\n",
       "</div>"
      ],
      "text/plain": [
       "   claim_id  customer_id      incident_cause  claim_date claim_area  \\\n",
       "0  54004764     21868593        Driver error  11/27/2017       Auto   \n",
       "1  33985796     75740424               Crime  10/03/2018       Home   \n",
       "2  53522022     30308357  Other driver error  02/02/2018       Auto   \n",
       "3  13015401     47830476      Natural causes  06/17/2018       Auto   \n",
       "4  22890252     19269962               Crime  01/13/2018       Auto   \n",
       "\n",
       "  police_report     claim_type claim_amount  total_policy_claims fraudulent  \\\n",
       "0            No  Material only        $2980                  1.0         No   \n",
       "1       Unknown  Material only        $2980                  3.0         No   \n",
       "2            No  Material only      $3369.5                  1.0        Yes   \n",
       "3            No  Material only        $1680                  1.0         No   \n",
       "4            No  Material only        $2680                  1.0         No   \n",
       "\n",
       "   gender DateOfBirth State       Contact   Segment  \n",
       "0  Female   12-Jan-79    VT  789-916-8172  Platinum  \n",
       "1  Female   13-Jan-70    ME  265-543-1264    Silver  \n",
       "2  Female   11-Mar-84    TN  798-631-4758    Silver  \n",
       "3  Female   01-May-86    MA  413-187-7945    Silver  \n",
       "4    Male   13-May-77    NV  956-871-8691      Gold  "
      ]
     },
     "execution_count": 6,
     "metadata": {},
     "output_type": "execute_result"
    }
   ],
   "source": [
    "print('1. The Combined data sets are \\n')\n",
    "\n",
    "Customer_Claims.head()"
   ]
  },
  {
   "cell_type": "code",
   "execution_count": 7,
   "metadata": {},
   "outputs": [],
   "source": [
    "Customer_Claims['DateOfBirth']=pd.to_datetime(Customer_Claims['DateOfBirth'],format='%d-%b-%y')\n",
    "now=pd.Timestamp('now')\n",
    "Customer_Claims['DateOfBirth']=Customer_Claims['DateOfBirth'].where(Customer_Claims['DateOfBirth'] < now,Customer_Claims['DateOfBirth']-np.timedelta64(100, 'Y'))\n",
    "\n",
    "\n",
    "Customer_Claims['claim_date']=pd.to_datetime(Customer_Claims['claim_date'],format='%m/%d/%Y')"
   ]
  },
  {
   "cell_type": "code",
   "execution_count": 8,
   "metadata": {},
   "outputs": [
    {
     "name": "stdout",
     "output_type": "stream",
     "text": [
      "2. The updated data types are\n",
      "<class 'pandas.core.frame.DataFrame'>\n",
      "Int64Index: 1100 entries, 0 to 1099\n",
      "Data columns (total 15 columns):\n",
      "claim_id               1100 non-null int64\n",
      "customer_id            1100 non-null int64\n",
      "incident_cause         1100 non-null object\n",
      "claim_date             1100 non-null datetime64[ns]\n",
      "claim_area             1100 non-null object\n",
      "police_report          1100 non-null object\n",
      "claim_type             1100 non-null object\n",
      "claim_amount           1035 non-null object\n",
      "total_policy_claims    1090 non-null float64\n",
      "fraudulent             1100 non-null object\n",
      "gender                 1085 non-null object\n",
      "DateOfBirth            1085 non-null datetime64[ns]\n",
      "State                  1085 non-null object\n",
      "Contact                1085 non-null object\n",
      "Segment                1085 non-null object\n",
      "dtypes: datetime64[ns](2), float64(1), int64(2), object(10)\n",
      "memory usage: 137.5+ KB\n"
     ]
    }
   ],
   "source": [
    "print('2. The updated data types are')\n",
    "\n",
    "Customer_Claims.info()"
   ]
  },
  {
   "cell_type": "code",
   "execution_count": 9,
   "metadata": {},
   "outputs": [],
   "source": [
    "Customer_Claims.dropna(inplace=True)"
   ]
  },
  {
   "cell_type": "code",
   "execution_count": 10,
   "metadata": {},
   "outputs": [
    {
     "data": {
      "text/plain": [
       "claim_id                        int64\n",
       "customer_id                     int64\n",
       "incident_cause                 object\n",
       "claim_date             datetime64[ns]\n",
       "claim_area                     object\n",
       "police_report                  object\n",
       "claim_type                     object\n",
       "claim_amount                  float64\n",
       "total_policy_claims           float64\n",
       "fraudulent                     object\n",
       "gender                         object\n",
       "DateOfBirth            datetime64[ns]\n",
       "State                          object\n",
       "Contact                        object\n",
       "Segment                        object\n",
       "dtype: object"
      ]
     },
     "execution_count": 10,
     "metadata": {},
     "output_type": "execute_result"
    }
   ],
   "source": [
    "Customer_Claims['claim_amount']=Customer_Claims['claim_amount'].astype(str)\n",
    "\n",
    "Customer_Claims['claim_amount']=Customer_Claims.claim_amount.apply(lambda x: x.strip('$'))\n",
    "\n",
    "Customer_Claims['claim_amount']=pd.to_numeric(Customer_Claims['claim_amount'])\n",
    "Customer_Claims.dtypes"
   ]
  },
  {
   "cell_type": "code",
   "execution_count": 11,
   "metadata": {},
   "outputs": [
    {
     "name": "stdout",
     "output_type": "stream",
     "text": [
      "3. The changed Claim_Amount column is \n",
      "\n",
      "   claim_amount\n",
      "0        2980.0\n",
      "1        2980.0\n",
      "\n",
      "Its data type is float64\n"
     ]
    }
   ],
   "source": [
    "print('3. The changed Claim_Amount column is \\n')\n",
    "\n",
    "print(Customer_Claims[['claim_amount']].head(2))\n",
    "\n",
    "print('\\nIts data type is',Customer_Claims['claim_amount'].dtype)"
   ]
  },
  {
   "cell_type": "code",
   "execution_count": 12,
   "metadata": {},
   "outputs": [
    {
     "name": "stdout",
     "output_type": "stream",
     "text": [
      "4. The alert column is\n"
     ]
    },
    {
     "data": {
      "text/plain": [
       "0    0\n",
       "1    1\n",
       "2    0\n",
       "3    0\n",
       "4    0\n",
       "5    0\n",
       "6    0\n",
       "7    0\n",
       "8    1\n",
       "9    0\n",
       "Name: Alert_Flag, dtype: int64"
      ]
     },
     "execution_count": 12,
     "metadata": {},
     "output_type": "execute_result"
    }
   ],
   "source": [
    "def fn_flag(x):\n",
    "    for a in Customer_Claims.police_report:\n",
    "        if(x=='Unknown'):\n",
    "            return(1)\n",
    "        else:\n",
    "            return(0)\n",
    "        \n",
    "Customer_Claims['Alert_Flag']=Customer_Claims['police_report'].apply(lambda x: fn_flag(x))\n",
    "\n",
    "print('4. The alert column is')\n",
    "\n",
    "Customer_Claims['Alert_Flag'].head(10)"
   ]
  },
  {
   "cell_type": "code",
   "execution_count": 13,
   "metadata": {},
   "outputs": [
    {
     "name": "stdout",
     "output_type": "stream",
     "text": [
      "The Duplicate records are\n"
     ]
    },
    {
     "data": {
      "text/html": [
       "<div>\n",
       "<style scoped>\n",
       "    .dataframe tbody tr th:only-of-type {\n",
       "        vertical-align: middle;\n",
       "    }\n",
       "\n",
       "    .dataframe tbody tr th {\n",
       "        vertical-align: top;\n",
       "    }\n",
       "\n",
       "    .dataframe thead th {\n",
       "        text-align: right;\n",
       "    }\n",
       "</style>\n",
       "<table border=\"1\" class=\"dataframe\">\n",
       "  <thead>\n",
       "    <tr style=\"text-align: right;\">\n",
       "      <th></th>\n",
       "      <th>claim_id</th>\n",
       "      <th>customer_id</th>\n",
       "      <th>incident_cause</th>\n",
       "      <th>claim_date</th>\n",
       "      <th>claim_area</th>\n",
       "      <th>police_report</th>\n",
       "      <th>claim_type</th>\n",
       "      <th>claim_amount</th>\n",
       "      <th>total_policy_claims</th>\n",
       "      <th>fraudulent</th>\n",
       "      <th>gender</th>\n",
       "      <th>DateOfBirth</th>\n",
       "      <th>State</th>\n",
       "      <th>Contact</th>\n",
       "      <th>Segment</th>\n",
       "      <th>Alert_Flag</th>\n",
       "    </tr>\n",
       "  </thead>\n",
       "  <tbody>\n",
       "    <tr>\n",
       "      <th>620</th>\n",
       "      <td>78221963</td>\n",
       "      <td>84147585</td>\n",
       "      <td>Driver error</td>\n",
       "      <td>2018-04-10</td>\n",
       "      <td>Auto</td>\n",
       "      <td>Yes</td>\n",
       "      <td>Injury only</td>\n",
       "      <td>14430.0</td>\n",
       "      <td>4.0</td>\n",
       "      <td>No</td>\n",
       "      <td>Male</td>\n",
       "      <td>1972-10-18</td>\n",
       "      <td>AK</td>\n",
       "      <td>743-569-4783</td>\n",
       "      <td>Gold</td>\n",
       "      <td>0</td>\n",
       "    </tr>\n",
       "    <tr>\n",
       "      <th>621</th>\n",
       "      <td>1654201</td>\n",
       "      <td>85357756</td>\n",
       "      <td>Driver error</td>\n",
       "      <td>2018-06-23</td>\n",
       "      <td>Auto</td>\n",
       "      <td>Unknown</td>\n",
       "      <td>Material only</td>\n",
       "      <td>2510.0</td>\n",
       "      <td>1.0</td>\n",
       "      <td>No</td>\n",
       "      <td>Male</td>\n",
       "      <td>1970-01-02</td>\n",
       "      <td>PA</td>\n",
       "      <td>915-698-3649</td>\n",
       "      <td>Platinum</td>\n",
       "      <td>1</td>\n",
       "    </tr>\n",
       "    <tr>\n",
       "      <th>622</th>\n",
       "      <td>41779510</td>\n",
       "      <td>53539195</td>\n",
       "      <td>Driver error</td>\n",
       "      <td>2018-10-03</td>\n",
       "      <td>Home</td>\n",
       "      <td>No</td>\n",
       "      <td>Injury only</td>\n",
       "      <td>25040.0</td>\n",
       "      <td>1.0</td>\n",
       "      <td>No</td>\n",
       "      <td>Male</td>\n",
       "      <td>1989-10-02</td>\n",
       "      <td>NV</td>\n",
       "      <td>914-342-8239</td>\n",
       "      <td>Gold</td>\n",
       "      <td>0</td>\n",
       "    </tr>\n",
       "    <tr>\n",
       "      <th>629</th>\n",
       "      <td>63017412</td>\n",
       "      <td>30308357</td>\n",
       "      <td>Driver error</td>\n",
       "      <td>2018-04-04</td>\n",
       "      <td>Auto</td>\n",
       "      <td>No</td>\n",
       "      <td>Material only</td>\n",
       "      <td>1950.0</td>\n",
       "      <td>6.0</td>\n",
       "      <td>No</td>\n",
       "      <td>Female</td>\n",
       "      <td>1984-03-11</td>\n",
       "      <td>TN</td>\n",
       "      <td>798-631-4758</td>\n",
       "      <td>Silver</td>\n",
       "      <td>0</td>\n",
       "    </tr>\n",
       "    <tr>\n",
       "      <th>630</th>\n",
       "      <td>91609100</td>\n",
       "      <td>47830476</td>\n",
       "      <td>Natural causes</td>\n",
       "      <td>2017-04-12</td>\n",
       "      <td>Auto</td>\n",
       "      <td>Unknown</td>\n",
       "      <td>Material only</td>\n",
       "      <td>1440.0</td>\n",
       "      <td>1.0</td>\n",
       "      <td>No</td>\n",
       "      <td>Female</td>\n",
       "      <td>1986-05-01</td>\n",
       "      <td>MA</td>\n",
       "      <td>413-187-7945</td>\n",
       "      <td>Silver</td>\n",
       "      <td>1</td>\n",
       "    </tr>\n",
       "    <tr>\n",
       "      <th>631</th>\n",
       "      <td>39219616</td>\n",
       "      <td>19269962</td>\n",
       "      <td>Other causes</td>\n",
       "      <td>2018-09-26</td>\n",
       "      <td>Auto</td>\n",
       "      <td>No</td>\n",
       "      <td>Material only</td>\n",
       "      <td>2240.0</td>\n",
       "      <td>2.0</td>\n",
       "      <td>No</td>\n",
       "      <td>Male</td>\n",
       "      <td>1977-05-13</td>\n",
       "      <td>NV</td>\n",
       "      <td>956-871-8691</td>\n",
       "      <td>Gold</td>\n",
       "      <td>0</td>\n",
       "    </tr>\n",
       "    <tr>\n",
       "      <th>632</th>\n",
       "      <td>91475471</td>\n",
       "      <td>21831191</td>\n",
       "      <td>Driver error</td>\n",
       "      <td>2018-02-09</td>\n",
       "      <td>Auto</td>\n",
       "      <td>Unknown</td>\n",
       "      <td>Material and injury</td>\n",
       "      <td>36810.0</td>\n",
       "      <td>1.0</td>\n",
       "      <td>No</td>\n",
       "      <td>Male</td>\n",
       "      <td>1977-05-17</td>\n",
       "      <td>NH</td>\n",
       "      <td>419-712-8513</td>\n",
       "      <td>Gold</td>\n",
       "      <td>1</td>\n",
       "    </tr>\n",
       "  </tbody>\n",
       "</table>\n",
       "</div>"
      ],
      "text/plain": [
       "     claim_id  customer_id  incident_cause claim_date claim_area  \\\n",
       "620  78221963     84147585    Driver error 2018-04-10       Auto   \n",
       "621   1654201     85357756    Driver error 2018-06-23       Auto   \n",
       "622  41779510     53539195    Driver error 2018-10-03       Home   \n",
       "629  63017412     30308357    Driver error 2018-04-04       Auto   \n",
       "630  91609100     47830476  Natural causes 2017-04-12       Auto   \n",
       "631  39219616     19269962    Other causes 2018-09-26       Auto   \n",
       "632  91475471     21831191    Driver error 2018-02-09       Auto   \n",
       "\n",
       "    police_report           claim_type  claim_amount  total_policy_claims  \\\n",
       "620           Yes          Injury only       14430.0                  4.0   \n",
       "621       Unknown        Material only        2510.0                  1.0   \n",
       "622            No          Injury only       25040.0                  1.0   \n",
       "629            No        Material only        1950.0                  6.0   \n",
       "630       Unknown        Material only        1440.0                  1.0   \n",
       "631            No        Material only        2240.0                  2.0   \n",
       "632       Unknown  Material and injury       36810.0                  1.0   \n",
       "\n",
       "    fraudulent  gender DateOfBirth State       Contact   Segment  Alert_Flag  \n",
       "620         No    Male  1972-10-18    AK  743-569-4783      Gold           0  \n",
       "621         No    Male  1970-01-02    PA  915-698-3649  Platinum           1  \n",
       "622         No    Male  1989-10-02    NV  914-342-8239      Gold           0  \n",
       "629         No  Female  1984-03-11    TN  798-631-4758    Silver           0  \n",
       "630         No  Female  1986-05-01    MA  413-187-7945    Silver           1  \n",
       "631         No    Male  1977-05-13    NV  956-871-8691      Gold           0  \n",
       "632         No    Male  1977-05-17    NH  419-712-8513      Gold           1  "
      ]
     },
     "execution_count": 13,
     "metadata": {},
     "output_type": "execute_result"
    }
   ],
   "source": [
    "print('The Duplicate records are')\n",
    "\n",
    "Customer_Claims[Customer_Claims.duplicated('customer_id')]"
   ]
  },
  {
   "cell_type": "code",
   "execution_count": 14,
   "metadata": {},
   "outputs": [
    {
     "name": "stdout",
     "output_type": "stream",
     "text": [
      "<class 'pandas.core.frame.DataFrame'>\n",
      "Int64Index: 1004 entries, 0 to 1084\n",
      "Data columns (total 16 columns):\n",
      "claim_id               1004 non-null int64\n",
      "customer_id            1004 non-null int64\n",
      "incident_cause         1004 non-null object\n",
      "claim_date             1004 non-null datetime64[ns]\n",
      "claim_area             1004 non-null object\n",
      "police_report          1004 non-null object\n",
      "claim_type             1004 non-null object\n",
      "claim_amount           1004 non-null float64\n",
      "total_policy_claims    1004 non-null float64\n",
      "fraudulent             1004 non-null object\n",
      "gender                 1004 non-null object\n",
      "DateOfBirth            1004 non-null datetime64[ns]\n",
      "State                  1004 non-null object\n",
      "Contact                1004 non-null object\n",
      "Segment                1004 non-null object\n",
      "Alert_Flag             1004 non-null int64\n",
      "dtypes: datetime64[ns](2), float64(2), int64(3), object(9)\n",
      "memory usage: 133.3+ KB\n",
      "\n",
      "5. In total of 7 records were deleted\n"
     ]
    }
   ],
   "source": [
    "Customer_Claims.drop_duplicates('customer_id',inplace=True)\n",
    "\n",
    "Customer_Claims.info()\n",
    "\n",
    "print('\\n5. In total of 7 records were deleted')"
   ]
  },
  {
   "cell_type": "code",
   "execution_count": 15,
   "metadata": {},
   "outputs": [
    {
     "name": "stdout",
     "output_type": "stream",
     "text": [
      "<class 'pandas.core.frame.DataFrame'>\n",
      "Int64Index: 1004 entries, 0 to 1084\n",
      "Data columns (total 16 columns):\n",
      "claim_id               1004 non-null int64\n",
      "customer_id            1004 non-null int64\n",
      "incident_cause         1004 non-null object\n",
      "claim_date             1004 non-null datetime64[ns]\n",
      "claim_area             1004 non-null object\n",
      "police_report          1004 non-null object\n",
      "claim_type             1004 non-null object\n",
      "claim_amount           1004 non-null float64\n",
      "total_policy_claims    1004 non-null float64\n",
      "fraudulent             1004 non-null object\n",
      "gender                 1004 non-null object\n",
      "DateOfBirth            1004 non-null datetime64[ns]\n",
      "State                  1004 non-null object\n",
      "Contact                1004 non-null object\n",
      "Segment                1004 non-null object\n",
      "Alert_Flag             1004 non-null int64\n",
      "dtypes: datetime64[ns](2), float64(2), int64(3), object(9)\n",
      "memory usage: 133.3+ KB\n"
     ]
    }
   ],
   "source": [
    "Customer_Claims.info()"
   ]
  },
  {
   "cell_type": "code",
   "execution_count": 16,
   "metadata": {},
   "outputs": [],
   "source": [
    "Customer_Claims['Age']=(now-Customer_Claims.DateOfBirth).astype('timedelta64[Y]')"
   ]
  },
  {
   "cell_type": "code",
   "execution_count": 17,
   "metadata": {},
   "outputs": [],
   "source": [
    "Customer_Claims['Age_Categories']=pd.cut(Customer_Claims.Age,[20,30,60],labels=['Youth','Adult'])"
   ]
  },
  {
   "cell_type": "code",
   "execution_count": 18,
   "metadata": {},
   "outputs": [
    {
     "name": "stdout",
     "output_type": "stream",
     "text": [
      "7. The categorized customers are in the column Age_Categories\n"
     ]
    },
    {
     "data": {
      "text/plain": [
       "0    Adult\n",
       "1    Adult\n",
       "2    Adult\n",
       "3    Adult\n",
       "4    Adult\n",
       "Name: Age_Categories, dtype: category\n",
       "Categories (2, object): [Youth < Adult]"
      ]
     },
     "execution_count": 18,
     "metadata": {},
     "output_type": "execute_result"
    }
   ],
   "source": [
    "print('7. The categorized customers are in the column Age_Categories')\n",
    "\n",
    "Customer_Claims.Age_Categories.head()"
   ]
  },
  {
   "cell_type": "code",
   "execution_count": 19,
   "metadata": {},
   "outputs": [
    {
     "name": "stdout",
     "output_type": "stream",
     "text": [
      "8. The average amount claimed by different segments is\n"
     ]
    },
    {
     "data": {
      "text/html": [
       "<div>\n",
       "<style scoped>\n",
       "    .dataframe tbody tr th:only-of-type {\n",
       "        vertical-align: middle;\n",
       "    }\n",
       "\n",
       "    .dataframe tbody tr th {\n",
       "        vertical-align: top;\n",
       "    }\n",
       "\n",
       "    .dataframe thead th {\n",
       "        text-align: right;\n",
       "    }\n",
       "</style>\n",
       "<table border=\"1\" class=\"dataframe\">\n",
       "  <thead>\n",
       "    <tr style=\"text-align: right;\">\n",
       "      <th></th>\n",
       "      <th>Segment</th>\n",
       "      <th>claim_amount</th>\n",
       "    </tr>\n",
       "  </thead>\n",
       "  <tbody>\n",
       "    <tr>\n",
       "      <th>0</th>\n",
       "      <td>Gold</td>\n",
       "      <td>12643.390671</td>\n",
       "    </tr>\n",
       "    <tr>\n",
       "      <th>1</th>\n",
       "      <td>Platinum</td>\n",
       "      <td>12426.603198</td>\n",
       "    </tr>\n",
       "    <tr>\n",
       "      <th>2</th>\n",
       "      <td>Silver</td>\n",
       "      <td>12284.386435</td>\n",
       "    </tr>\n",
       "  </tbody>\n",
       "</table>\n",
       "</div>"
      ],
      "text/plain": [
       "    Segment  claim_amount\n",
       "0      Gold  12643.390671\n",
       "1  Platinum  12426.603198\n",
       "2    Silver  12284.386435"
      ]
     },
     "execution_count": 19,
     "metadata": {},
     "output_type": "execute_result"
    }
   ],
   "source": [
    "print('8. The average amount claimed by different segments is')\n",
    "\n",
    "Customer_Claims.groupby('Segment')[['claim_amount']].mean().reset_index()"
   ]
  },
  {
   "cell_type": "code",
   "execution_count": 20,
   "metadata": {},
   "outputs": [
    {
     "name": "stdout",
     "output_type": "stream",
     "text": [
      "9. The total claim amount based on incident cause for all the claims that have been done at least 20 days prior to 1st of October, 2018 is\n"
     ]
    },
    {
     "data": {
      "text/html": [
       "<div>\n",
       "<style scoped>\n",
       "    .dataframe tbody tr th:only-of-type {\n",
       "        vertical-align: middle;\n",
       "    }\n",
       "\n",
       "    .dataframe tbody tr th {\n",
       "        vertical-align: top;\n",
       "    }\n",
       "\n",
       "    .dataframe thead th {\n",
       "        text-align: right;\n",
       "    }\n",
       "</style>\n",
       "<table border=\"1\" class=\"dataframe\">\n",
       "  <thead>\n",
       "    <tr style=\"text-align: right;\">\n",
       "      <th></th>\n",
       "      <th>incident_cause</th>\n",
       "      <th>claim_amount</th>\n",
       "    </tr>\n",
       "  </thead>\n",
       "  <tbody>\n",
       "    <tr>\n",
       "      <th>0</th>\n",
       "      <td>Crime</td>\n",
       "      <td>662110.0</td>\n",
       "    </tr>\n",
       "    <tr>\n",
       "      <th>1</th>\n",
       "      <td>Driver error</td>\n",
       "      <td>3112550.0</td>\n",
       "    </tr>\n",
       "    <tr>\n",
       "      <th>2</th>\n",
       "      <td>Natural causes</td>\n",
       "      <td>1181891.5</td>\n",
       "    </tr>\n",
       "    <tr>\n",
       "      <th>3</th>\n",
       "      <td>Other causes</td>\n",
       "      <td>3486969.0</td>\n",
       "    </tr>\n",
       "    <tr>\n",
       "      <th>4</th>\n",
       "      <td>Other driver error</td>\n",
       "      <td>3053360.0</td>\n",
       "    </tr>\n",
       "  </tbody>\n",
       "</table>\n",
       "</div>"
      ],
      "text/plain": [
       "       incident_cause  claim_amount\n",
       "0               Crime      662110.0\n",
       "1        Driver error     3112550.0\n",
       "2      Natural causes     1181891.5\n",
       "3        Other causes     3486969.0\n",
       "4  Other driver error     3053360.0"
      ]
     },
     "execution_count": 20,
     "metadata": {},
     "output_type": "execute_result"
    }
   ],
   "source": [
    "Date=datetime.date(2018,10,1)\n",
    "New_date=Date-pd.DateOffset(days=20)\n",
    "Date_Table=Customer_Claims[Customer_Claims.claim_date<New_date]\n",
    "\n",
    "\n",
    "print('9. The total claim amount based on incident cause for all the claims that have been done at least 20 days prior to 1st of October, 2018 is')\n",
    "\n",
    "Date_Table.groupby('incident_cause')[['claim_amount']].sum().reset_index()"
   ]
  },
  {
   "cell_type": "code",
   "execution_count": 21,
   "metadata": {},
   "outputs": [
    {
     "name": "stderr",
     "output_type": "stream",
     "text": [
      "C:\\ProgramData\\Anaconda3\\lib\\site-packages\\ipykernel_launcher.py:3: UserWarning: Boolean Series key will be reindexed to match DataFrame index.\n",
      "  This is separate from the ipykernel package so we can avoid doing imports until\n"
     ]
    }
   ],
   "source": [
    "New_table=Customer_Claims[(Customer_Claims.State=='TX')|(Customer_Claims.State=='DE')|(Customer_Claims.State=='AK')]\n",
    "\n",
    "New_table2=New_table[(Customer_Claims.incident_cause=='Driver error')|(Customer_Claims.incident_cause=='Other driver error')]"
   ]
  },
  {
   "cell_type": "code",
   "execution_count": 22,
   "metadata": {},
   "outputs": [
    {
     "name": "stdout",
     "output_type": "stream",
     "text": [
      "10. The total number of adults from TX, DE and AK that claimed insurance for driver related issues and causes are 30\n"
     ]
    }
   ],
   "source": [
    "print('10. The total number of adults from TX, DE and AK that claimed insurance for driver related issues and causes are',len(New_table2.index))"
   ]
  },
  {
   "cell_type": "code",
   "execution_count": 23,
   "metadata": {},
   "outputs": [
    {
     "name": "stderr",
     "output_type": "stream",
     "text": [
      "C:\\ProgramData\\Anaconda3\\lib\\site-packages\\pandas\\core\\indexing.py:190: SettingWithCopyWarning: \n",
      "A value is trying to be set on a copy of a slice from a DataFrame\n",
      "\n",
      "See the caveats in the documentation: http://pandas.pydata.org/pandas-docs/stable/indexing.html#indexing-view-versus-copy\n",
      "  self._setitem_with_indexer(indexer, value)\n"
     ]
    },
    {
     "name": "stdout",
     "output_type": "stream",
     "text": [
      "11. The pie chart between the aggregated value of claim amount based on gender and segment is\n"
     ]
    },
    {
     "data": {
      "image/png": "[encoded data removed]",
      "text/plain": [
       "<Figure size 432x288 with 1 Axes>"
      ]
     },
     "metadata": {},
     "output_type": "display_data"
    }
   ],
   "source": [
    "Pie_table=Customer_Claims.groupby(['gender','Segment'])[['claim_amount']].sum().reset_index()\n",
    "\n",
    "Pie_table['Lable']=Pie_table['gender']\n",
    "\n",
    "for i in range(0,6):\n",
    "    Pie_table['Lable'].iloc[i]=Pie_table.Segment.iloc[i]+'-'+Pie_table.gender.iloc[i]\n",
    "    \n",
    "Pie_table\n",
    "\n",
    "print('11. The pie chart between the aggregated value of claim amount based on gender and segment is')\n",
    "\n",
    "plt.pie(Pie_table['claim_amount'],labels=Pie_table['Lable'],explode=(0, 0, 0, 0.15,0,0),startangle=90,autopct='%1.1f%%')\n",
    "\n",
    "plt.axis('equal')\n",
    "\n",
    "plt.tight_layout()\n",
    "plt.show()"
   ]
  },
  {
   "cell_type": "code",
   "execution_count": 24,
   "metadata": {},
   "outputs": [
    {
     "name": "stdout",
     "output_type": "stream",
     "text": [
      "12. It can clearly be said that Males have spent more\n",
      "\n",
      "   gender  claim_amount\n",
      "0  Female     2913605.0\n",
      "1    Male     3683499.0\n"
     ]
    },
    {
     "data": {
      "text/plain": [
       "<matplotlib.axes._subplots.AxesSubplot at 0x239faaef978>"
      ]
     },
     "execution_count": 24,
     "metadata": {},
     "output_type": "execute_result"
    },
    {
     "data": {
      "image/png": "[encoded data removed]",
      "text/plain": [
       "<Figure size 432x288 with 1 Axes>"
      ]
     },
     "metadata": {
      "needs_background": "light"
     },
     "output_type": "display_data"
    }
   ],
   "source": [
    "Bar_Table1=Customer_Claims[(Customer_Claims.incident_cause=='Driver error')|(Customer_Claims.incident_cause=='Other driver error')]\n",
    "\n",
    "Bar_Table2=Bar_Table1.groupby('gender')[['claim_amount']].sum()\n",
    "\n",
    "print('12. It can clearly be said that Males have spent more\\n')\n",
    "print(Bar_Table2.reset_index())\n",
    "\n",
    "Bar_Table2.plot.bar()"
   ]
  },
  {
   "cell_type": "code",
   "execution_count": 25,
   "metadata": {},
   "outputs": [
    {
     "data": {
      "text/html": [
       "<div>\n",
       "<style scoped>\n",
       "    .dataframe tbody tr th:only-of-type {\n",
       "        vertical-align: middle;\n",
       "    }\n",
       "\n",
       "    .dataframe tbody tr th {\n",
       "        vertical-align: top;\n",
       "    }\n",
       "\n",
       "    .dataframe thead th {\n",
       "        text-align: right;\n",
       "    }\n",
       "</style>\n",
       "<table border=\"1\" class=\"dataframe\">\n",
       "  <thead>\n",
       "    <tr style=\"text-align: right;\">\n",
       "      <th></th>\n",
       "      <th>claim_id</th>\n",
       "      <th>customer_id</th>\n",
       "      <th>incident_cause</th>\n",
       "      <th>claim_date</th>\n",
       "      <th>claim_area</th>\n",
       "      <th>police_report</th>\n",
       "      <th>claim_type</th>\n",
       "      <th>claim_amount</th>\n",
       "      <th>total_policy_claims</th>\n",
       "      <th>fraudulent</th>\n",
       "      <th>gender</th>\n",
       "      <th>DateOfBirth</th>\n",
       "      <th>State</th>\n",
       "      <th>Contact</th>\n",
       "      <th>Segment</th>\n",
       "      <th>Alert_Flag</th>\n",
       "      <th>Age</th>\n",
       "      <th>Age_Categories</th>\n",
       "    </tr>\n",
       "  </thead>\n",
       "  <tbody>\n",
       "    <tr>\n",
       "      <th>0</th>\n",
       "      <td>54004764</td>\n",
       "      <td>21868593</td>\n",
       "      <td>Driver error</td>\n",
       "      <td>2017-11-27</td>\n",
       "      <td>Auto</td>\n",
       "      <td>No</td>\n",
       "      <td>Material only</td>\n",
       "      <td>2980.0</td>\n",
       "      <td>1.0</td>\n",
       "      <td>No</td>\n",
       "      <td>Female</td>\n",
       "      <td>1979-01-12</td>\n",
       "      <td>VT</td>\n",
       "      <td>789-916-8172</td>\n",
       "      <td>Platinum</td>\n",
       "      <td>0</td>\n",
       "      <td>41.0</td>\n",
       "      <td>Adult</td>\n",
       "    </tr>\n",
       "    <tr>\n",
       "      <th>1</th>\n",
       "      <td>33985796</td>\n",
       "      <td>75740424</td>\n",
       "      <td>Crime</td>\n",
       "      <td>2018-10-03</td>\n",
       "      <td>Home</td>\n",
       "      <td>Unknown</td>\n",
       "      <td>Material only</td>\n",
       "      <td>2980.0</td>\n",
       "      <td>3.0</td>\n",
       "      <td>No</td>\n",
       "      <td>Female</td>\n",
       "      <td>1970-01-13</td>\n",
       "      <td>ME</td>\n",
       "      <td>265-543-1264</td>\n",
       "      <td>Silver</td>\n",
       "      <td>1</td>\n",
       "      <td>50.0</td>\n",
       "      <td>Adult</td>\n",
       "    </tr>\n",
       "    <tr>\n",
       "      <th>2</th>\n",
       "      <td>53522022</td>\n",
       "      <td>30308357</td>\n",
       "      <td>Other driver error</td>\n",
       "      <td>2018-02-02</td>\n",
       "      <td>Auto</td>\n",
       "      <td>No</td>\n",
       "      <td>Material only</td>\n",
       "      <td>3369.5</td>\n",
       "      <td>1.0</td>\n",
       "      <td>Yes</td>\n",
       "      <td>Female</td>\n",
       "      <td>1984-03-11</td>\n",
       "      <td>TN</td>\n",
       "      <td>798-631-4758</td>\n",
       "      <td>Silver</td>\n",
       "      <td>0</td>\n",
       "      <td>36.0</td>\n",
       "      <td>Adult</td>\n",
       "    </tr>\n",
       "    <tr>\n",
       "      <th>3</th>\n",
       "      <td>13015401</td>\n",
       "      <td>47830476</td>\n",
       "      <td>Natural causes</td>\n",
       "      <td>2018-06-17</td>\n",
       "      <td>Auto</td>\n",
       "      <td>No</td>\n",
       "      <td>Material only</td>\n",
       "      <td>1680.0</td>\n",
       "      <td>1.0</td>\n",
       "      <td>No</td>\n",
       "      <td>Female</td>\n",
       "      <td>1986-05-01</td>\n",
       "      <td>MA</td>\n",
       "      <td>413-187-7945</td>\n",
       "      <td>Silver</td>\n",
       "      <td>0</td>\n",
       "      <td>33.0</td>\n",
       "      <td>Adult</td>\n",
       "    </tr>\n",
       "    <tr>\n",
       "      <th>4</th>\n",
       "      <td>22890252</td>\n",
       "      <td>19269962</td>\n",
       "      <td>Crime</td>\n",
       "      <td>2018-01-13</td>\n",
       "      <td>Auto</td>\n",
       "      <td>No</td>\n",
       "      <td>Material only</td>\n",
       "      <td>2680.0</td>\n",
       "      <td>1.0</td>\n",
       "      <td>No</td>\n",
       "      <td>Male</td>\n",
       "      <td>1977-05-13</td>\n",
       "      <td>NV</td>\n",
       "      <td>956-871-8691</td>\n",
       "      <td>Gold</td>\n",
       "      <td>0</td>\n",
       "      <td>42.0</td>\n",
       "      <td>Adult</td>\n",
       "    </tr>\n",
       "  </tbody>\n",
       "</table>\n",
       "</div>"
      ],
      "text/plain": [
       "   claim_id  customer_id      incident_cause claim_date claim_area  \\\n",
       "0  54004764     21868593        Driver error 2017-11-27       Auto   \n",
       "1  33985796     75740424               Crime 2018-10-03       Home   \n",
       "2  53522022     30308357  Other driver error 2018-02-02       Auto   \n",
       "3  13015401     47830476      Natural causes 2018-06-17       Auto   \n",
       "4  22890252     19269962               Crime 2018-01-13       Auto   \n",
       "\n",
       "  police_report     claim_type  claim_amount  total_policy_claims fraudulent  \\\n",
       "0            No  Material only        2980.0                  1.0         No   \n",
       "1       Unknown  Material only        2980.0                  3.0         No   \n",
       "2            No  Material only        3369.5                  1.0        Yes   \n",
       "3            No  Material only        1680.0                  1.0         No   \n",
       "4            No  Material only        2680.0                  1.0         No   \n",
       "\n",
       "   gender DateOfBirth State       Contact   Segment  Alert_Flag   Age  \\\n",
       "0  Female  1979-01-12    VT  789-916-8172  Platinum           0  41.0   \n",
       "1  Female  1970-01-13    ME  265-543-1264    Silver           1  50.0   \n",
       "2  Female  1984-03-11    TN  798-631-4758    Silver           0  36.0   \n",
       "3  Female  1986-05-01    MA  413-187-7945    Silver           0  33.0   \n",
       "4    Male  1977-05-13    NV  956-871-8691      Gold           0  42.0   \n",
       "\n",
       "  Age_Categories  \n",
       "0          Adult  \n",
       "1          Adult  \n",
       "2          Adult  \n",
       "3          Adult  \n",
       "4          Adult  "
      ]
     },
     "execution_count": 25,
     "metadata": {},
     "output_type": "execute_result"
    }
   ],
   "source": [
    "Customer_Claims.head(5)"
   ]
  },
  {
   "cell_type": "code",
   "execution_count": 26,
   "metadata": {},
   "outputs": [
    {
     "name": "stdout",
     "output_type": "stream",
     "text": [
      "13. It can be seen clearly that Adults do more frauds as compared to any other category\n",
      "\n",
      "  Age_Categories  fraudulent\n",
      "0          Youth          57\n",
      "1          Adult         170\n"
     ]
    },
    {
     "data": {
      "text/plain": [
       "<matplotlib.axes._subplots.AxesSubplot at 0x239fb03ecc0>"
      ]
     },
     "execution_count": 26,
     "metadata": {},
     "output_type": "execute_result"
    },
    {
     "data": {
      "image/png": "[encoded data removed]",
      "text/plain": [
       "<Figure size 432x288 with 1 Axes>"
      ]
     },
     "metadata": {
      "needs_background": "light"
     },
     "output_type": "display_data"
    }
   ],
   "source": [
    "print(\"13. It can be seen clearly that Adults do more frauds as compared to any other category\\n\")\n",
    "\n",
    "print(Customer_Claims[Customer_Claims.fraudulent=='Yes'].groupby('Age_Categories')[['fraudulent']].count().reset_index())\n",
    "\n",
    "Customer_Claims[Customer_Claims.fraudulent=='Yes'].groupby('Age_Categories')[['fraudulent']].count().plot.bar()"
   ]
  },
  {
   "cell_type": "code",
   "execution_count": 27,
   "metadata": {},
   "outputs": [
    {
     "data": {
      "text/html": [
       "<div>\n",
       "<style scoped>\n",
       "    .dataframe tbody tr th:only-of-type {\n",
       "        vertical-align: middle;\n",
       "    }\n",
       "\n",
       "    .dataframe tbody tr th {\n",
       "        vertical-align: top;\n",
       "    }\n",
       "\n",
       "    .dataframe thead th {\n",
       "        text-align: right;\n",
       "    }\n",
       "</style>\n",
       "<table border=\"1\" class=\"dataframe\">\n",
       "  <thead>\n",
       "    <tr style=\"text-align: right;\">\n",
       "      <th></th>\n",
       "      <th>claim_id</th>\n",
       "      <th>customer_id</th>\n",
       "      <th>incident_cause</th>\n",
       "      <th>claim_date</th>\n",
       "      <th>claim_area</th>\n",
       "      <th>police_report</th>\n",
       "      <th>claim_type</th>\n",
       "      <th>claim_amount</th>\n",
       "      <th>total_policy_claims</th>\n",
       "      <th>fraudulent</th>\n",
       "      <th>gender</th>\n",
       "      <th>DateOfBirth</th>\n",
       "      <th>State</th>\n",
       "      <th>Contact</th>\n",
       "      <th>Segment</th>\n",
       "      <th>Alert_Flag</th>\n",
       "      <th>Age</th>\n",
       "      <th>Age_Categories</th>\n",
       "    </tr>\n",
       "  </thead>\n",
       "  <tbody>\n",
       "    <tr>\n",
       "      <th>0</th>\n",
       "      <td>54004764</td>\n",
       "      <td>21868593</td>\n",
       "      <td>Driver error</td>\n",
       "      <td>2017-11-27</td>\n",
       "      <td>Auto</td>\n",
       "      <td>No</td>\n",
       "      <td>Material only</td>\n",
       "      <td>2980.0</td>\n",
       "      <td>1.0</td>\n",
       "      <td>No</td>\n",
       "      <td>Female</td>\n",
       "      <td>1979-01-12</td>\n",
       "      <td>VT</td>\n",
       "      <td>789-916-8172</td>\n",
       "      <td>Platinum</td>\n",
       "      <td>0</td>\n",
       "      <td>41.0</td>\n",
       "      <td>Adult</td>\n",
       "    </tr>\n",
       "    <tr>\n",
       "      <th>1</th>\n",
       "      <td>33985796</td>\n",
       "      <td>75740424</td>\n",
       "      <td>Crime</td>\n",
       "      <td>2018-10-03</td>\n",
       "      <td>Home</td>\n",
       "      <td>Unknown</td>\n",
       "      <td>Material only</td>\n",
       "      <td>2980.0</td>\n",
       "      <td>3.0</td>\n",
       "      <td>No</td>\n",
       "      <td>Female</td>\n",
       "      <td>1970-01-13</td>\n",
       "      <td>ME</td>\n",
       "      <td>265-543-1264</td>\n",
       "      <td>Silver</td>\n",
       "      <td>1</td>\n",
       "      <td>50.0</td>\n",
       "      <td>Adult</td>\n",
       "    </tr>\n",
       "  </tbody>\n",
       "</table>\n",
       "</div>"
      ],
      "text/plain": [
       "   claim_id  customer_id incident_cause claim_date claim_area police_report  \\\n",
       "0  54004764     21868593   Driver error 2017-11-27       Auto            No   \n",
       "1  33985796     75740424          Crime 2018-10-03       Home       Unknown   \n",
       "\n",
       "      claim_type  claim_amount  total_policy_claims fraudulent  gender  \\\n",
       "0  Material only        2980.0                  1.0         No  Female   \n",
       "1  Material only        2980.0                  3.0         No  Female   \n",
       "\n",
       "  DateOfBirth State       Contact   Segment  Alert_Flag   Age Age_Categories  \n",
       "0  1979-01-12    VT  789-916-8172  Platinum           0  41.0          Adult  \n",
       "1  1970-01-13    ME  265-543-1264    Silver           1  50.0          Adult  "
      ]
     },
     "execution_count": 27,
     "metadata": {},
     "output_type": "execute_result"
    }
   ],
   "source": [
    "Customer_Claims.head(2)"
   ]
  },
  {
   "cell_type": "code",
   "execution_count": 28,
   "metadata": {},
   "outputs": [
    {
     "name": "stdout",
     "output_type": "stream",
     "text": [
      "14. The monthly trend of the total amount that has been claimed by the customers is \n"
     ]
    },
    {
     "data": {
      "text/plain": [
       "Text(0, 0.5, 'Claim Amount')"
      ]
     },
     "execution_count": 28,
     "metadata": {},
     "output_type": "execute_result"
    },
    {
     "data": {
      "image/png": "[encoded data removed]",
      "text/plain": [
       "<Figure size 432x288 with 1 Axes>"
      ]
     },
     "metadata": {
      "needs_background": "light"
     },
     "output_type": "display_data"
    }
   ],
   "source": [
    "Date_Index_table=Customer_Claims.set_index('claim_date')\n",
    "\n",
    "Date_Index_table=Date_Index_table.resample('M').sum()\n",
    "\n",
    "print('14. The monthly trend of the total amount that has been claimed by the customers is ')\n",
    "\n",
    "plt.plot(Date_Index_table.index,Date_Index_table.claim_amount)\n",
    "plt.xticks(rotation=90)\n",
    "plt.xlabel('Months')\n",
    "plt.ylabel('Claim Amount')"
   ]
  },
  {
   "cell_type": "code",
   "execution_count": 29,
   "metadata": {},
   "outputs": [
    {
     "data": {
      "text/html": [
       "<div>\n",
       "<style scoped>\n",
       "    .dataframe tbody tr th:only-of-type {\n",
       "        vertical-align: middle;\n",
       "    }\n",
       "\n",
       "    .dataframe tbody tr th {\n",
       "        vertical-align: top;\n",
       "    }\n",
       "\n",
       "    .dataframe thead th {\n",
       "        text-align: right;\n",
       "    }\n",
       "</style>\n",
       "<table border=\"1\" class=\"dataframe\">\n",
       "  <thead>\n",
       "    <tr style=\"text-align: right;\">\n",
       "      <th></th>\n",
       "      <th>fraudulent</th>\n",
       "      <th>Age_Categories</th>\n",
       "      <th>gender</th>\n",
       "      <th>claim_amount</th>\n",
       "    </tr>\n",
       "  </thead>\n",
       "  <tbody>\n",
       "    <tr>\n",
       "      <th>0</th>\n",
       "      <td>No</td>\n",
       "      <td>Youth</td>\n",
       "      <td>Female</td>\n",
       "      <td>13096.116505</td>\n",
       "    </tr>\n",
       "    <tr>\n",
       "      <th>1</th>\n",
       "      <td>No</td>\n",
       "      <td>Youth</td>\n",
       "      <td>Male</td>\n",
       "      <td>11891.666667</td>\n",
       "    </tr>\n",
       "    <tr>\n",
       "      <th>2</th>\n",
       "      <td>No</td>\n",
       "      <td>Adult</td>\n",
       "      <td>Female</td>\n",
       "      <td>12229.144981</td>\n",
       "    </tr>\n",
       "    <tr>\n",
       "      <th>3</th>\n",
       "      <td>No</td>\n",
       "      <td>Adult</td>\n",
       "      <td>Male</td>\n",
       "      <td>12123.133803</td>\n",
       "    </tr>\n",
       "    <tr>\n",
       "      <th>4</th>\n",
       "      <td>Yes</td>\n",
       "      <td>Youth</td>\n",
       "      <td>Female</td>\n",
       "      <td>7843.851852</td>\n",
       "    </tr>\n",
       "    <tr>\n",
       "      <th>5</th>\n",
       "      <td>Yes</td>\n",
       "      <td>Youth</td>\n",
       "      <td>Male</td>\n",
       "      <td>10396.383333</td>\n",
       "    </tr>\n",
       "    <tr>\n",
       "      <th>6</th>\n",
       "      <td>Yes</td>\n",
       "      <td>Adult</td>\n",
       "      <td>Female</td>\n",
       "      <td>12001.295455</td>\n",
       "    </tr>\n",
       "    <tr>\n",
       "      <th>7</th>\n",
       "      <td>Yes</td>\n",
       "      <td>Adult</td>\n",
       "      <td>Male</td>\n",
       "      <td>16928.420732</td>\n",
       "    </tr>\n",
       "  </tbody>\n",
       "</table>\n",
       "</div>"
      ],
      "text/plain": [
       "  fraudulent Age_Categories  gender  claim_amount\n",
       "0         No          Youth  Female  13096.116505\n",
       "1         No          Youth    Male  11891.666667\n",
       "2         No          Adult  Female  12229.144981\n",
       "3         No          Adult    Male  12123.133803\n",
       "4        Yes          Youth  Female   7843.851852\n",
       "5        Yes          Youth    Male  10396.383333\n",
       "6        Yes          Adult  Female  12001.295455\n",
       "7        Yes          Adult    Male  16928.420732"
      ]
     },
     "execution_count": 29,
     "metadata": {},
     "output_type": "execute_result"
    }
   ],
   "source": [
    "df=Customer_Claims.groupby(['fraudulent','Age_Categories','gender'])[['claim_amount']].mean().reset_index()\n",
    "\n",
    "df"
   ]
  },
  {
   "cell_type": "code",
   "execution_count": 30,
   "metadata": {},
   "outputs": [
    {
     "name": "stdout",
     "output_type": "stream",
     "text": [
      "15. The average claim amount for gender and age categories based on fraudulent column is \n"
     ]
    },
    {
     "data": {
      "text/plain": [
       "<seaborn.axisgrid.FacetGrid at 0x239fc4d9c18>"
      ]
     },
     "execution_count": 30,
     "metadata": {},
     "output_type": "execute_result"
    },
    {
     "data": {
      "image/png": "[encoded data removed]",
      "text/plain": [
       "<Figure size 504.625x216 with 2 Axes>"
      ]
     },
     "metadata": {
      "needs_background": "light"
     },
     "output_type": "display_data"
    }
   ],
   "source": [
    "print('15. The average claim amount for gender and age categories based on fraudulent column is ')\n",
    "\n",
    "g=sns.FacetGrid(df, col=\"fraudulent\", hue=\"gender\")\n",
    "g.map(plt.scatter, \"Age_Categories\", \"claim_amount\")\n",
    "g.add_legend();\n",
    "g.set_xticklabels(rotation=90)"
   ]
  },
  {
   "cell_type": "code",
   "execution_count": 65,
   "metadata": {},
   "outputs": [
    {
     "name": "stdout",
     "output_type": "stream",
     "text": [
      "Ttest_indResult(statistic=0.8604421397462901, pvalue=0.3897511956543287)\n",
      "\n",
      "\n",
      "16. On performing the Independent T-test on Male and Female population we came accross the conclusion that there is a similarity in the aount claimed by males and female as the P value is not that small so the hypothesis that we had assumed earlier that both are same holds true\n",
      "\n",
      "The mean value of claims for the male is 12822.982387475538\n",
      "The mean value of claims for the female is 12075.133874239351\n"
     ]
    }
   ],
   "source": [
    "Male=Customer_Claims.claim_amount[Customer_Claims.gender=='Male']\n",
    "Female=Customer_Claims.claim_amount[Customer_Claims.gender=='Female']\n",
    "\n",
    "print(stats.ttest_ind(a=Male,b=Female,equal_var=False))\n",
    "\n",
    "print('\\n\\n16. On performing the Independent T-test on Male and Female population we came accross the conclusion that there is a similarity in the aount claimed by males and female as the P value is not that small so the hypothesis that we had assumed earlier that both are same holds true\\n')\n",
    "\n",
    "print('The mean value of claims for the male is',Male.mean())\n",
    "print('The mean value of claims for the female is',Female.mean())"
   ]
  },
  {
   "cell_type": "code",
   "execution_count": 93,
   "metadata": {},
   "outputs": [
    {
     "name": "stdout",
     "output_type": "stream",
     "text": [
      "17. As we have two catagorical variables we will use chi square test\n",
      "\n",
      "Age_Categories  Youth  Adult  All\n",
      "Segment                          \n",
      "Gold               83    254  337\n",
      "Platinum          103    235  338\n",
      "Silver             76    234  310\n",
      "All               723    262  985\n",
      "\n",
      " After Chi test-\n",
      "(434.60523451620935, 1.0087171951682024e-90, 6, array([[168.5, 168.5, 337. ],\n",
      "       [169. , 169. , 338. ],\n",
      "       [155. , 155. , 310. ],\n",
      "       [492.5, 492.5, 985. ]]))\n",
      "\n",
      " The age category is not dependent on the segment as when we did the Chi-square test the P value came out to be not so small so the hypothesis that we had assumend that the two are independet holds true in this case\n"
     ]
    }
   ],
   "source": [
    "print('17. As we have two catagorical variables we will use chi square test\\n')\n",
    "      \n",
    "      \n",
    "t=pd.crosstab(Customer_Claims.Segment,Customer_Claims.Age_Categories,margins=True)\n",
    "print(t)\n",
    "\n",
    "print('\\n After Chi test-')\n",
    "print(stats.chi2_contingency(observed=t))\n",
    "\n",
    "\n",
    "print('\\n The age category is not dependent on the segment as when we did the Chi-square test the P value came out to be not so small so the hypothesis that we had assumend that the two are independet holds true in this case')"
   ]
  },
  {
   "cell_type": "code",
   "execution_count": 77,
   "metadata": {},
   "outputs": [
    {
     "name": "stdout",
     "output_type": "stream",
     "text": [
      "18.  We will be assuming that the Mean of last year is same as the mean of this year and this will be our null hypothesis\n",
      "Assuming Ho=10000\n",
      "\n",
      " Ttest_1sampResult(statistic=5.648917522935291, pvalue=2.1024491591824085e-08)\n",
      "\n",
      "The mean for claim amount is 12455.761952191235\n",
      "\n",
      "On seeing the P value we can very well see that it is very small so the null hypothesis that we assumed earlier doesnot hold true . On calulating the Mean value we can very well see that the mean value of the following year is greater than 10000 so we can conclude that there is a substantial increase\n"
     ]
    }
   ],
   "source": [
    "print(\"18.  We will be assuming that the Mean of last year is same as the mean of this year and this will be our null hypothesis\")\n",
    "\n",
    "print('Assuming Ho=10000')\n",
    "\n",
    "print('\\n',stats.ttest_1samp(a=Customer_Claims.claim_amount,popmean=10000))\n",
    "\n",
    "print('\\nThe mean for claim amount is',Customer_Claims.claim_amount.mean())\n",
    "\n",
    "print('\\nOn seeing the P value we can very well see that it is very small so the null hypothesis that we assumed earlier doesnot hold true . On calulating the Mean value we can very well see that the mean value of the following year is greater than 10000 so we can conclude that there is a substantial increase')"
   ]
  },
  {
   "cell_type": "code",
   "execution_count": 94,
   "metadata": {},
   "outputs": [
    {
     "name": "stdout",
     "output_type": "stream",
     "text": [
      "19. Since we have a continuous variable and a cotagorical variable with segments so we will be using ANOVA \n",
      "\n",
      " F_onewayResult(statistic=0.8452406383830992, pvalue=0.3581277744834458)\n",
      "\n",
      "As we can see that P value is not very small the null hypothesis holds true thus we can say that the insurance claim is same for the two Age category\n"
     ]
    }
   ],
   "source": [
    "print(\"19. Since we have a continuous variable and a cotagorical variable with segments so we will be using ANOVA \")\n",
    "\n",
    "s1=Customer_Claims.claim_amount[Customer_Claims.Age_Categories=='Adult']\n",
    "s2=Customer_Claims.claim_amount[Customer_Claims.Age_Categories=='Youth']\n",
    "\n",
    "print('\\n',stats.f_oneway(s1,s2))\n",
    "\n",
    "print('\\nAs we can see that P value is not very small the null hypothesis holds true thus we can say that the insurance claim is same for the two Age category')"
   ]
  },
  {
   "cell_type": "code",
   "execution_count": 103,
   "metadata": {},
   "outputs": [
    {
     "name": "stdout",
     "output_type": "stream",
     "text": [
      "20. Since we have a continuous variable and a cotagorical variable with segments so we will be using ANOVA \n",
      "\n",
      " F_onewayResult(statistic=0.9188326327730677, pvalue=0.49084119699808326)\n",
      "\n",
      "As we can see that P value is not very small the null hypothesis holds true thus we can say that the insurance claim is not dependenat on the number of policy claims as it is simlar in each case\n",
      "The mean value for each is\n",
      "\n",
      "For 1 policy claim 12399.175546448087\n",
      "For 2 policy claim 13932.69\n",
      "For 3 policy claim 12962.51875\n",
      "For 4 policy claim 10998.982142857143\n",
      "For 5 policy claim 8215.26\n",
      "For 6 policy claim 16056.25\n",
      "For 7 policy claim 23033.0\n",
      "For 8 policy claim 3277.5\n"
     ]
    }
   ],
   "source": [
    "print(\"20. Since we have a continuous variable and a cotagorical variable with segments so we will be using ANOVA \")\n",
    "\n",
    "s1=Customer_Claims.claim_amount[Customer_Claims.total_policy_claims==1]\n",
    "s2=Customer_Claims.claim_amount[Customer_Claims.total_policy_claims==2]\n",
    "s3=Customer_Claims.claim_amount[Customer_Claims.total_policy_claims==3]\n",
    "s4=Customer_Claims.claim_amount[Customer_Claims.total_policy_claims==4]\n",
    "s5=Customer_Claims.claim_amount[Customer_Claims.total_policy_claims==5]\n",
    "s6=Customer_Claims.claim_amount[Customer_Claims.total_policy_claims==6]\n",
    "s7=Customer_Claims.claim_amount[Customer_Claims.total_policy_claims==7]\n",
    "s8=Customer_Claims.claim_amount[Customer_Claims.total_policy_claims==8]\n",
    "\n",
    "print('\\n',stats.f_oneway(s1,s2,s3,s4,s5,s6,s7,s8))\n",
    "\n",
    "print('\\nAs we can see that P value is not very small the null hypothesis holds true thus we can say that the insurance claim is not dependenat on the number of policy claims as it is simlar in each case')\n",
    "\n",
    "print('The mean value for each is\\n')\n",
    "print('For 1 policy claim',s1.mean())\n",
    "print('For 2 policy claim',s2.mean())\n",
    "print('For 3 policy claim',s3.mean())\n",
    "print('For 4 policy claim',s4.mean())\n",
    "print('For 5 policy claim',s5.mean())\n",
    "print('For 6 policy claim',s6.mean())\n",
    "print('For 7 policy claim',s7.mean())\n",
    "print('For 8 policy claim',s8.mean())"
   ]
  },
  {
   "cell_type": "code",
   "execution_count": null,
   "metadata": {},
   "outputs": [],
   "source": []
  }
 ],
 "metadata": {
  "kernelspec": {
   "display_name": "Python 3",
   "language": "python",
   "name": "python3"
  },
  "language_info": {
   "codemirror_mode": {
    "name": "ipython",
    "version": 3
   },
   "file_extension": ".py",
   "mimetype": "text/x-python",
   "name": "python",
   "nbconvert_exporter": "python",
   "pygments_lexer": "ipython3",
   "version": "3.7.3"
  }
 },
 "nbformat": 4,
 "nbformat_minor": 2
}
